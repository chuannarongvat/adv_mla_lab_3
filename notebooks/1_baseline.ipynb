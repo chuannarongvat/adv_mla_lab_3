{
 "cells": [
  {
   "cell_type": "code",
   "execution_count": 1,
   "metadata": {},
   "outputs": [],
   "source": [
    "%load_ext autoreload\n",
    "%autoreload 2"
   ]
  },
  {
   "cell_type": "code",
   "execution_count": 2,
   "metadata": {},
   "outputs": [
    {
     "name": "stdout",
     "output_type": "stream",
     "text": [
      "Looking in indexes: https://test.pypi.org/simple/\n",
      "Collecting my-krml-adv_mla_2023==0.1.2\n",
      "  Downloading https://test-files.pythonhosted.org/packages/30/2c/158473c14a1c661eaa7361bb3e06f78aea7fdfb81be99c9ef22380b69c38/my_krml_adv_mla_2023-0.1.2-py3-none-any.whl (6.2 kB)\n",
      "Requirement already satisfied: pandas==2.0.1 in /Users/narongvatchingpayakmon/Library/Caches/pypoetry/virtualenvs/adv-mla-lab-3-x7i-u8vi-py3.9/lib/python3.9/site-packages (from my-krml-adv_mla_2023==0.1.2) (2.0.1)\n",
      "Requirement already satisfied: scikit-learn==1.2.2 in /Users/narongvatchingpayakmon/Library/Caches/pypoetry/virtualenvs/adv-mla-lab-3-x7i-u8vi-py3.9/lib/python3.9/site-packages (from my-krml-adv_mla_2023==0.1.2) (1.2.2)\n",
      "Requirement already satisfied: python-dateutil>=2.8.2 in /Users/narongvatchingpayakmon/Library/Caches/pypoetry/virtualenvs/adv-mla-lab-3-x7i-u8vi-py3.9/lib/python3.9/site-packages (from pandas==2.0.1->my-krml-adv_mla_2023==0.1.2) (2.8.2)\n",
      "Requirement already satisfied: pytz>=2020.1 in /Users/narongvatchingpayakmon/Library/Caches/pypoetry/virtualenvs/adv-mla-lab-3-x7i-u8vi-py3.9/lib/python3.9/site-packages (from pandas==2.0.1->my-krml-adv_mla_2023==0.1.2) (2023.3.post1)\n",
      "Requirement already satisfied: tzdata>=2022.1 in /Users/narongvatchingpayakmon/Library/Caches/pypoetry/virtualenvs/adv-mla-lab-3-x7i-u8vi-py3.9/lib/python3.9/site-packages (from pandas==2.0.1->my-krml-adv_mla_2023==0.1.2) (2023.3)\n",
      "Requirement already satisfied: numpy>=1.20.3 in /Users/narongvatchingpayakmon/Library/Caches/pypoetry/virtualenvs/adv-mla-lab-3-x7i-u8vi-py3.9/lib/python3.9/site-packages (from pandas==2.0.1->my-krml-adv_mla_2023==0.1.2) (1.26.2)\n",
      "Requirement already satisfied: scipy>=1.3.2 in /Users/narongvatchingpayakmon/Library/Caches/pypoetry/virtualenvs/adv-mla-lab-3-x7i-u8vi-py3.9/lib/python3.9/site-packages (from scikit-learn==1.2.2->my-krml-adv_mla_2023==0.1.2) (1.11.4)\n",
      "Requirement already satisfied: joblib>=1.1.1 in /Users/narongvatchingpayakmon/Library/Caches/pypoetry/virtualenvs/adv-mla-lab-3-x7i-u8vi-py3.9/lib/python3.9/site-packages (from scikit-learn==1.2.2->my-krml-adv_mla_2023==0.1.2) (1.3.2)\n",
      "Requirement already satisfied: threadpoolctl>=2.0.0 in /Users/narongvatchingpayakmon/Library/Caches/pypoetry/virtualenvs/adv-mla-lab-3-x7i-u8vi-py3.9/lib/python3.9/site-packages (from scikit-learn==1.2.2->my-krml-adv_mla_2023==0.1.2) (3.2.0)\n",
      "Requirement already satisfied: six>=1.5 in /Users/narongvatchingpayakmon/Library/Caches/pypoetry/virtualenvs/adv-mla-lab-3-x7i-u8vi-py3.9/lib/python3.9/site-packages (from python-dateutil>=2.8.2->pandas==2.0.1->my-krml-adv_mla_2023==0.1.2) (1.16.0)\n",
      "Installing collected packages: my-krml-adv_mla_2023\n",
      "Successfully installed my-krml-adv_mla_2023-0.1.2\n",
      "\n",
      "\u001b[1m[\u001b[0m\u001b[34;49mnotice\u001b[0m\u001b[1;39;49m]\u001b[0m\u001b[39;49m A new release of pip is available: \u001b[0m\u001b[31;49m23.1\u001b[0m\u001b[39;49m -> \u001b[0m\u001b[32;49m23.3.2\u001b[0m\n",
      "\u001b[1m[\u001b[0m\u001b[34;49mnotice\u001b[0m\u001b[1;39;49m]\u001b[0m\u001b[39;49m To update, run: \u001b[0m\u001b[32;49mpip install --upgrade pip\u001b[0m\n"
     ]
    }
   ],
   "source": [
    "! pip install -i https://test.pypi.org/simple/ my-krml-adv_mla_2023==0.1.2"
   ]
  },
  {
   "cell_type": "code",
   "execution_count": 3,
   "metadata": {},
   "outputs": [],
   "source": [
    "import pandas as pd\n",
    "import numpy as np"
   ]
  },
  {
   "cell_type": "code",
   "execution_count": 4,
   "metadata": {},
   "outputs": [
    {
     "name": "stderr",
     "output_type": "stream",
     "text": [
      "/var/folders/3w/x3y82fg55p71509st75l3mth0000gn/T/ipykernel_29100/3103678577.py:1: DtypeWarning: Columns (7) have mixed types. Specify dtype option on import or set low_memory=False.\n",
      "  df = pd.read_csv(\"../data/raw/yellow_tripdata_2020-04.csv\")\n"
     ]
    }
   ],
   "source": [
    "df = pd.read_csv(\"../data/raw/yellow_tripdata_2020-04.csv\")"
   ]
  },
  {
   "cell_type": "code",
   "execution_count": 5,
   "metadata": {},
   "outputs": [
    {
     "data": {
      "text/html": [
       "<div>\n",
       "<style scoped>\n",
       "    .dataframe tbody tr th:only-of-type {\n",
       "        vertical-align: middle;\n",
       "    }\n",
       "\n",
       "    .dataframe tbody tr th {\n",
       "        vertical-align: top;\n",
       "    }\n",
       "\n",
       "    .dataframe thead th {\n",
       "        text-align: right;\n",
       "    }\n",
       "</style>\n",
       "<table border=\"1\" class=\"dataframe\">\n",
       "  <thead>\n",
       "    <tr style=\"text-align: right;\">\n",
       "      <th></th>\n",
       "      <th>Unnamed: 0</th>\n",
       "      <th>VendorID</th>\n",
       "      <th>tpep_pickup_datetime</th>\n",
       "      <th>tpep_dropoff_datetime</th>\n",
       "      <th>passenger_count</th>\n",
       "      <th>trip_distance</th>\n",
       "      <th>RatecodeID</th>\n",
       "      <th>store_and_fwd_flag</th>\n",
       "      <th>PULocationID</th>\n",
       "      <th>DOLocationID</th>\n",
       "      <th>payment_type</th>\n",
       "      <th>fare_amount</th>\n",
       "      <th>extra</th>\n",
       "      <th>mta_tax</th>\n",
       "      <th>tip_amount</th>\n",
       "      <th>tolls_amount</th>\n",
       "      <th>improvement_surcharge</th>\n",
       "      <th>total_amount</th>\n",
       "      <th>congestion_surcharge</th>\n",
       "    </tr>\n",
       "  </thead>\n",
       "  <tbody>\n",
       "    <tr>\n",
       "      <th>0</th>\n",
       "      <td>0</td>\n",
       "      <td>1.0</td>\n",
       "      <td>2020-04-01 00:41:22</td>\n",
       "      <td>2020-04-01 01:01:53</td>\n",
       "      <td>1.0</td>\n",
       "      <td>1.20</td>\n",
       "      <td>1.0</td>\n",
       "      <td>N</td>\n",
       "      <td>41</td>\n",
       "      <td>24</td>\n",
       "      <td>2.0</td>\n",
       "      <td>5.5</td>\n",
       "      <td>0.5</td>\n",
       "      <td>0.5</td>\n",
       "      <td>0.00</td>\n",
       "      <td>0.0</td>\n",
       "      <td>0.3</td>\n",
       "      <td>6.80</td>\n",
       "      <td>0.0</td>\n",
       "    </tr>\n",
       "    <tr>\n",
       "      <th>1</th>\n",
       "      <td>1</td>\n",
       "      <td>1.0</td>\n",
       "      <td>2020-04-01 00:56:00</td>\n",
       "      <td>2020-04-01 01:09:25</td>\n",
       "      <td>1.0</td>\n",
       "      <td>3.40</td>\n",
       "      <td>1.0</td>\n",
       "      <td>N</td>\n",
       "      <td>95</td>\n",
       "      <td>197</td>\n",
       "      <td>1.0</td>\n",
       "      <td>12.5</td>\n",
       "      <td>0.5</td>\n",
       "      <td>0.5</td>\n",
       "      <td>2.75</td>\n",
       "      <td>0.0</td>\n",
       "      <td>0.3</td>\n",
       "      <td>16.55</td>\n",
       "      <td>0.0</td>\n",
       "    </tr>\n",
       "    <tr>\n",
       "      <th>2</th>\n",
       "      <td>2</td>\n",
       "      <td>1.0</td>\n",
       "      <td>2020-04-01 00:00:26</td>\n",
       "      <td>2020-04-01 00:09:25</td>\n",
       "      <td>1.0</td>\n",
       "      <td>2.80</td>\n",
       "      <td>1.0</td>\n",
       "      <td>N</td>\n",
       "      <td>237</td>\n",
       "      <td>137</td>\n",
       "      <td>1.0</td>\n",
       "      <td>10.0</td>\n",
       "      <td>3.0</td>\n",
       "      <td>0.5</td>\n",
       "      <td>1.00</td>\n",
       "      <td>0.0</td>\n",
       "      <td>0.3</td>\n",
       "      <td>14.80</td>\n",
       "      <td>2.5</td>\n",
       "    </tr>\n",
       "    <tr>\n",
       "      <th>3</th>\n",
       "      <td>3</td>\n",
       "      <td>1.0</td>\n",
       "      <td>2020-04-01 00:24:38</td>\n",
       "      <td>2020-04-01 00:34:38</td>\n",
       "      <td>0.0</td>\n",
       "      <td>2.60</td>\n",
       "      <td>1.0</td>\n",
       "      <td>N</td>\n",
       "      <td>68</td>\n",
       "      <td>142</td>\n",
       "      <td>1.0</td>\n",
       "      <td>10.0</td>\n",
       "      <td>3.0</td>\n",
       "      <td>0.5</td>\n",
       "      <td>1.00</td>\n",
       "      <td>0.0</td>\n",
       "      <td>0.3</td>\n",
       "      <td>14.80</td>\n",
       "      <td>2.5</td>\n",
       "    </tr>\n",
       "    <tr>\n",
       "      <th>4</th>\n",
       "      <td>4</td>\n",
       "      <td>2.0</td>\n",
       "      <td>2020-04-01 00:13:24</td>\n",
       "      <td>2020-04-01 00:18:26</td>\n",
       "      <td>1.0</td>\n",
       "      <td>1.44</td>\n",
       "      <td>1.0</td>\n",
       "      <td>Y</td>\n",
       "      <td>263</td>\n",
       "      <td>74</td>\n",
       "      <td>1.0</td>\n",
       "      <td>6.5</td>\n",
       "      <td>0.5</td>\n",
       "      <td>0.5</td>\n",
       "      <td>3.00</td>\n",
       "      <td>0.0</td>\n",
       "      <td>0.3</td>\n",
       "      <td>13.30</td>\n",
       "      <td>2.5</td>\n",
       "    </tr>\n",
       "  </tbody>\n",
       "</table>\n",
       "</div>"
      ],
      "text/plain": [
       "   Unnamed: 0  VendorID tpep_pickup_datetime tpep_dropoff_datetime   \n",
       "0           0       1.0  2020-04-01 00:41:22   2020-04-01 01:01:53  \\\n",
       "1           1       1.0  2020-04-01 00:56:00   2020-04-01 01:09:25   \n",
       "2           2       1.0  2020-04-01 00:00:26   2020-04-01 00:09:25   \n",
       "3           3       1.0  2020-04-01 00:24:38   2020-04-01 00:34:38   \n",
       "4           4       2.0  2020-04-01 00:13:24   2020-04-01 00:18:26   \n",
       "\n",
       "   passenger_count  trip_distance  RatecodeID store_and_fwd_flag   \n",
       "0              1.0           1.20         1.0                  N  \\\n",
       "1              1.0           3.40         1.0                  N   \n",
       "2              1.0           2.80         1.0                  N   \n",
       "3              0.0           2.60         1.0                  N   \n",
       "4              1.0           1.44         1.0                  Y   \n",
       "\n",
       "   PULocationID  DOLocationID  payment_type  fare_amount  extra  mta_tax   \n",
       "0            41            24           2.0          5.5    0.5      0.5  \\\n",
       "1            95           197           1.0         12.5    0.5      0.5   \n",
       "2           237           137           1.0         10.0    3.0      0.5   \n",
       "3            68           142           1.0         10.0    3.0      0.5   \n",
       "4           263            74           1.0          6.5    0.5      0.5   \n",
       "\n",
       "   tip_amount  tolls_amount  improvement_surcharge  total_amount   \n",
       "0        0.00           0.0                    0.3          6.80  \\\n",
       "1        2.75           0.0                    0.3         16.55   \n",
       "2        1.00           0.0                    0.3         14.80   \n",
       "3        1.00           0.0                    0.3         14.80   \n",
       "4        3.00           0.0                    0.3         13.30   \n",
       "\n",
       "   congestion_surcharge  \n",
       "0                   0.0  \n",
       "1                   0.0  \n",
       "2                   2.5  \n",
       "3                   2.5  \n",
       "4                   2.5  "
      ]
     },
     "execution_count": 5,
     "metadata": {},
     "output_type": "execute_result"
    }
   ],
   "source": [
    "df.head()"
   ]
  },
  {
   "cell_type": "code",
   "execution_count": 6,
   "metadata": {},
   "outputs": [
    {
     "data": {
      "text/plain": [
       "(237993, 19)"
      ]
     },
     "execution_count": 6,
     "metadata": {},
     "output_type": "execute_result"
    }
   ],
   "source": [
    "df.shape"
   ]
  },
  {
   "cell_type": "code",
   "execution_count": 7,
   "metadata": {},
   "outputs": [
    {
     "name": "stdout",
     "output_type": "stream",
     "text": [
      "<class 'pandas.core.frame.DataFrame'>\n",
      "RangeIndex: 237993 entries, 0 to 237992\n",
      "Data columns (total 19 columns):\n",
      " #   Column                 Non-Null Count   Dtype  \n",
      "---  ------                 --------------   -----  \n",
      " 0   Unnamed: 0             237993 non-null  int64  \n",
      " 1   VendorID               218480 non-null  float64\n",
      " 2   tpep_pickup_datetime   237993 non-null  object \n",
      " 3   tpep_dropoff_datetime  237993 non-null  object \n",
      " 4   passenger_count        218480 non-null  float64\n",
      " 5   trip_distance          237993 non-null  float64\n",
      " 6   RatecodeID             218480 non-null  float64\n",
      " 7   store_and_fwd_flag     218480 non-null  object \n",
      " 8   PULocationID           237993 non-null  int64  \n",
      " 9   DOLocationID           237993 non-null  int64  \n",
      " 10  payment_type           218480 non-null  float64\n",
      " 11  fare_amount            237993 non-null  float64\n",
      " 12  extra                  237993 non-null  float64\n",
      " 13  mta_tax                237993 non-null  float64\n",
      " 14  tip_amount             237993 non-null  float64\n",
      " 15  tolls_amount           237993 non-null  float64\n",
      " 16  improvement_surcharge  237993 non-null  float64\n",
      " 17  total_amount           237993 non-null  float64\n",
      " 18  congestion_surcharge   237993 non-null  float64\n",
      "dtypes: float64(13), int64(3), object(3)\n",
      "memory usage: 34.5+ MB\n"
     ]
    }
   ],
   "source": [
    "df.info()"
   ]
  },
  {
   "cell_type": "code",
   "execution_count": 8,
   "metadata": {},
   "outputs": [
    {
     "data": {
      "text/html": [
       "<div>\n",
       "<style scoped>\n",
       "    .dataframe tbody tr th:only-of-type {\n",
       "        vertical-align: middle;\n",
       "    }\n",
       "\n",
       "    .dataframe tbody tr th {\n",
       "        vertical-align: top;\n",
       "    }\n",
       "\n",
       "    .dataframe thead th {\n",
       "        text-align: right;\n",
       "    }\n",
       "</style>\n",
       "<table border=\"1\" class=\"dataframe\">\n",
       "  <thead>\n",
       "    <tr style=\"text-align: right;\">\n",
       "      <th></th>\n",
       "      <th>Unnamed: 0</th>\n",
       "      <th>VendorID</th>\n",
       "      <th>passenger_count</th>\n",
       "      <th>trip_distance</th>\n",
       "      <th>RatecodeID</th>\n",
       "      <th>PULocationID</th>\n",
       "      <th>DOLocationID</th>\n",
       "      <th>payment_type</th>\n",
       "      <th>fare_amount</th>\n",
       "      <th>extra</th>\n",
       "      <th>mta_tax</th>\n",
       "      <th>tip_amount</th>\n",
       "      <th>tolls_amount</th>\n",
       "      <th>improvement_surcharge</th>\n",
       "      <th>total_amount</th>\n",
       "      <th>congestion_surcharge</th>\n",
       "    </tr>\n",
       "  </thead>\n",
       "  <tbody>\n",
       "    <tr>\n",
       "      <th>count</th>\n",
       "      <td>237993.000000</td>\n",
       "      <td>218480.000000</td>\n",
       "      <td>218480.000000</td>\n",
       "      <td>237993.000000</td>\n",
       "      <td>218480.000000</td>\n",
       "      <td>237993.000000</td>\n",
       "      <td>237993.000000</td>\n",
       "      <td>218480.000000</td>\n",
       "      <td>237993.000000</td>\n",
       "      <td>237993.000000</td>\n",
       "      <td>237993.000000</td>\n",
       "      <td>237993.000000</td>\n",
       "      <td>237993.000000</td>\n",
       "      <td>237993.000000</td>\n",
       "      <td>237993.000000</td>\n",
       "      <td>237993.000000</td>\n",
       "    </tr>\n",
       "    <tr>\n",
       "      <th>mean</th>\n",
       "      <td>118996.000000</td>\n",
       "      <td>1.564949</td>\n",
       "      <td>1.296764</td>\n",
       "      <td>4.039981</td>\n",
       "      <td>1.034081</td>\n",
       "      <td>154.908422</td>\n",
       "      <td>150.361414</td>\n",
       "      <td>1.425673</td>\n",
       "      <td>11.666027</td>\n",
       "      <td>1.066739</td>\n",
       "      <td>0.487000</td>\n",
       "      <td>1.530229</td>\n",
       "      <td>0.220504</td>\n",
       "      <td>0.296331</td>\n",
       "      <td>16.408621</td>\n",
       "      <td>1.927536</td>\n",
       "    </tr>\n",
       "    <tr>\n",
       "      <th>std</th>\n",
       "      <td>68702.805645</td>\n",
       "      <td>0.495765</td>\n",
       "      <td>0.983595</td>\n",
       "      <td>294.879052</td>\n",
       "      <td>0.865044</td>\n",
       "      <td>70.749496</td>\n",
       "      <td>74.474108</td>\n",
       "      <td>0.555915</td>\n",
       "      <td>11.728767</td>\n",
       "      <td>1.260170</td>\n",
       "      <td>0.094993</td>\n",
       "      <td>2.295523</td>\n",
       "      <td>1.342351</td>\n",
       "      <td>0.045429</td>\n",
       "      <td>13.155858</td>\n",
       "      <td>1.072839</td>\n",
       "    </tr>\n",
       "    <tr>\n",
       "      <th>min</th>\n",
       "      <td>0.000000</td>\n",
       "      <td>1.000000</td>\n",
       "      <td>0.000000</td>\n",
       "      <td>0.000000</td>\n",
       "      <td>1.000000</td>\n",
       "      <td>1.000000</td>\n",
       "      <td>1.000000</td>\n",
       "      <td>1.000000</td>\n",
       "      <td>-118.000000</td>\n",
       "      <td>-4.500000</td>\n",
       "      <td>-0.500000</td>\n",
       "      <td>-5.000000</td>\n",
       "      <td>-19.870000</td>\n",
       "      <td>-0.300000</td>\n",
       "      <td>-138.170000</td>\n",
       "      <td>-2.500000</td>\n",
       "    </tr>\n",
       "    <tr>\n",
       "      <th>25%</th>\n",
       "      <td>59498.000000</td>\n",
       "      <td>1.000000</td>\n",
       "      <td>1.000000</td>\n",
       "      <td>0.950000</td>\n",
       "      <td>1.000000</td>\n",
       "      <td>97.000000</td>\n",
       "      <td>75.000000</td>\n",
       "      <td>1.000000</td>\n",
       "      <td>5.500000</td>\n",
       "      <td>0.000000</td>\n",
       "      <td>0.500000</td>\n",
       "      <td>0.000000</td>\n",
       "      <td>0.000000</td>\n",
       "      <td>0.300000</td>\n",
       "      <td>9.800000</td>\n",
       "      <td>2.500000</td>\n",
       "    </tr>\n",
       "    <tr>\n",
       "      <th>50%</th>\n",
       "      <td>118996.000000</td>\n",
       "      <td>2.000000</td>\n",
       "      <td>1.000000</td>\n",
       "      <td>1.740000</td>\n",
       "      <td>1.000000</td>\n",
       "      <td>143.000000</td>\n",
       "      <td>143.000000</td>\n",
       "      <td>1.000000</td>\n",
       "      <td>8.000000</td>\n",
       "      <td>0.500000</td>\n",
       "      <td>0.500000</td>\n",
       "      <td>1.000000</td>\n",
       "      <td>0.000000</td>\n",
       "      <td>0.300000</td>\n",
       "      <td>12.800000</td>\n",
       "      <td>2.500000</td>\n",
       "    </tr>\n",
       "    <tr>\n",
       "      <th>75%</th>\n",
       "      <td>178494.000000</td>\n",
       "      <td>2.000000</td>\n",
       "      <td>1.000000</td>\n",
       "      <td>3.400000</td>\n",
       "      <td>1.000000</td>\n",
       "      <td>234.000000</td>\n",
       "      <td>233.000000</td>\n",
       "      <td>2.000000</td>\n",
       "      <td>13.000000</td>\n",
       "      <td>2.500000</td>\n",
       "      <td>0.500000</td>\n",
       "      <td>2.460000</td>\n",
       "      <td>0.000000</td>\n",
       "      <td>0.300000</td>\n",
       "      <td>18.360000</td>\n",
       "      <td>2.500000</td>\n",
       "    </tr>\n",
       "    <tr>\n",
       "      <th>max</th>\n",
       "      <td>237992.000000</td>\n",
       "      <td>2.000000</td>\n",
       "      <td>7.000000</td>\n",
       "      <td>126501.770000</td>\n",
       "      <td>99.000000</td>\n",
       "      <td>265.000000</td>\n",
       "      <td>265.000000</td>\n",
       "      <td>4.000000</td>\n",
       "      <td>903.020000</td>\n",
       "      <td>7.000000</td>\n",
       "      <td>1.100000</td>\n",
       "      <td>117.280000</td>\n",
       "      <td>98.750000</td>\n",
       "      <td>0.300000</td>\n",
       "      <td>903.320000</td>\n",
       "      <td>2.500000</td>\n",
       "    </tr>\n",
       "  </tbody>\n",
       "</table>\n",
       "</div>"
      ],
      "text/plain": [
       "          Unnamed: 0       VendorID  passenger_count  trip_distance   \n",
       "count  237993.000000  218480.000000    218480.000000  237993.000000  \\\n",
       "mean   118996.000000       1.564949         1.296764       4.039981   \n",
       "std     68702.805645       0.495765         0.983595     294.879052   \n",
       "min         0.000000       1.000000         0.000000       0.000000   \n",
       "25%     59498.000000       1.000000         1.000000       0.950000   \n",
       "50%    118996.000000       2.000000         1.000000       1.740000   \n",
       "75%    178494.000000       2.000000         1.000000       3.400000   \n",
       "max    237992.000000       2.000000         7.000000  126501.770000   \n",
       "\n",
       "          RatecodeID   PULocationID   DOLocationID   payment_type   \n",
       "count  218480.000000  237993.000000  237993.000000  218480.000000  \\\n",
       "mean        1.034081     154.908422     150.361414       1.425673   \n",
       "std         0.865044      70.749496      74.474108       0.555915   \n",
       "min         1.000000       1.000000       1.000000       1.000000   \n",
       "25%         1.000000      97.000000      75.000000       1.000000   \n",
       "50%         1.000000     143.000000     143.000000       1.000000   \n",
       "75%         1.000000     234.000000     233.000000       2.000000   \n",
       "max        99.000000     265.000000     265.000000       4.000000   \n",
       "\n",
       "         fare_amount          extra        mta_tax     tip_amount   \n",
       "count  237993.000000  237993.000000  237993.000000  237993.000000  \\\n",
       "mean       11.666027       1.066739       0.487000       1.530229   \n",
       "std        11.728767       1.260170       0.094993       2.295523   \n",
       "min      -118.000000      -4.500000      -0.500000      -5.000000   \n",
       "25%         5.500000       0.000000       0.500000       0.000000   \n",
       "50%         8.000000       0.500000       0.500000       1.000000   \n",
       "75%        13.000000       2.500000       0.500000       2.460000   \n",
       "max       903.020000       7.000000       1.100000     117.280000   \n",
       "\n",
       "        tolls_amount  improvement_surcharge   total_amount   \n",
       "count  237993.000000          237993.000000  237993.000000  \\\n",
       "mean        0.220504               0.296331      16.408621   \n",
       "std         1.342351               0.045429      13.155858   \n",
       "min       -19.870000              -0.300000    -138.170000   \n",
       "25%         0.000000               0.300000       9.800000   \n",
       "50%         0.000000               0.300000      12.800000   \n",
       "75%         0.000000               0.300000      18.360000   \n",
       "max        98.750000               0.300000     903.320000   \n",
       "\n",
       "       congestion_surcharge  \n",
       "count         237993.000000  \n",
       "mean               1.927536  \n",
       "std                1.072839  \n",
       "min               -2.500000  \n",
       "25%                2.500000  \n",
       "50%                2.500000  \n",
       "75%                2.500000  \n",
       "max                2.500000  "
      ]
     },
     "execution_count": 8,
     "metadata": {},
     "output_type": "execute_result"
    }
   ],
   "source": [
    "df.describe()"
   ]
  },
  {
   "cell_type": "code",
   "execution_count": 9,
   "metadata": {},
   "outputs": [],
   "source": [
    "df_cleaned = df.copy()"
   ]
  },
  {
   "cell_type": "code",
   "execution_count": 11,
   "metadata": {},
   "outputs": [],
   "source": [
    "from my_krml_adv_mla_2023.features.dates import convert_to_date"
   ]
  },
  {
   "cell_type": "code",
   "execution_count": 12,
   "metadata": {},
   "outputs": [],
   "source": [
    "df_cleaned = convert_to_date(df_cleaned, ['tpep_pickup_datetime', 'tpep_dropoff_datetime'])"
   ]
  },
  {
   "cell_type": "code",
   "execution_count": 13,
   "metadata": {},
   "outputs": [],
   "source": [
    "df_cleaned['trip_duration'] = (df_cleaned['tpep_dropoff_datetime'] - df_cleaned['tpep_pickup_datetime']).dt.total_seconds()"
   ]
  },
  {
   "cell_type": "code",
   "execution_count": 14,
   "metadata": {},
   "outputs": [],
   "source": [
    "df_cleaned['trip_duration'] = pd.cut(df_cleaned['trip_duration'], bins=[-1, 300, 600, 1800, 300000], labels=[0, 1, 2, 3])"
   ]
  },
  {
   "cell_type": "code",
   "execution_count": 15,
   "metadata": {},
   "outputs": [],
   "source": [
    "df_cleaned['tpep_pickup_dayofmonth'] = df_cleaned['tpep_pickup_datetime'].dt.day"
   ]
  },
  {
   "cell_type": "code",
   "execution_count": 16,
   "metadata": {},
   "outputs": [],
   "source": [
    "df_cleaned['tpep_pickup_hourofday'] = df_cleaned['tpep_pickup_datetime'].dt.hour"
   ]
  },
  {
   "cell_type": "code",
   "execution_count": 17,
   "metadata": {},
   "outputs": [],
   "source": [
    "df_cleaned['tpep_pickup_dayofweek'] = df_cleaned['tpep_pickup_datetime'].dt.dayofweek"
   ]
  },
  {
   "cell_type": "code",
   "execution_count": 18,
   "metadata": {},
   "outputs": [],
   "source": [
    "df_cleaned = pd.get_dummies(df_cleaned, columns=['VendorID', 'RatecodeID', 'store_and_fwd_flag'])"
   ]
  },
  {
   "cell_type": "code",
   "execution_count": 19,
   "metadata": {},
   "outputs": [],
   "source": [
    "df_cleaned.drop(['tpep_pickup_datetime', 'tpep_dropoff_datetime', 'PULocationID', 'DOLocationID'], axis=1, inplace=True)"
   ]
  },
  {
   "cell_type": "code",
   "execution_count": 20,
   "metadata": {},
   "outputs": [],
   "source": [
    "df_cleaned.to_csv('../data/interim/yellow_tripdata_2020-04_prepared.csv', index=False)"
   ]
  },
  {
   "cell_type": "code",
   "execution_count": 21,
   "metadata": {},
   "outputs": [],
   "source": [
    "from my_krml_adv_mla_2023.data.sets import pop_target, split_sets_random\n",
    "\n",
    "features, target = pop_target(df_cleaned, target_col='trip_duration')\n",
    "X_train, y_train, X_val, y_val, X_test, y_test = split_sets_random(features, target, test_ratio=0.2)"
   ]
  },
  {
   "cell_type": "code",
   "execution_count": 22,
   "metadata": {},
   "outputs": [],
   "source": [
    "from my_krml_adv_mla_2023.data.sets import save_sets"
   ]
  },
  {
   "cell_type": "code",
   "execution_count": 23,
   "metadata": {},
   "outputs": [],
   "source": [
    "save_sets(X_train, y_train, X_val, y_val, X_test, y_test, path='../data/processed/')"
   ]
  },
  {
   "cell_type": "code",
   "execution_count": 24,
   "metadata": {},
   "outputs": [],
   "source": [
    "from my_krml_adv_mla_2023.models.null import NullClassifier"
   ]
  },
  {
   "cell_type": "code",
   "execution_count": 25,
   "metadata": {},
   "outputs": [],
   "source": [
    "base_model = NullClassifier()"
   ]
  },
  {
   "cell_type": "code",
   "execution_count": 26,
   "metadata": {},
   "outputs": [
    {
     "name": "stdout",
     "output_type": "stream",
     "text": [
      "Mode calculation successful. Mode: 1\n"
     ]
    }
   ],
   "source": [
    "y_base = base_model.fit_predict(y_train)"
   ]
  },
  {
   "cell_type": "code",
   "execution_count": 27,
   "metadata": {},
   "outputs": [
    {
     "name": "stdout",
     "output_type": "stream",
     "text": [
      "Accuracy Training: 0.34539024475646907\n",
      "F1 Training: 0.17733802015864514\n"
     ]
    }
   ],
   "source": [
    "from my_krml_adv_mla_2023.models.performance import print_classifier_scores\n",
    "print_classifier_scores(y_preds=y_base, y_actuals=y_train, set_name=\"Training\")"
   ]
  }
 ],
 "metadata": {
  "kernelspec": {
   "display_name": "adv-mla-lab-3-x7i-u8vi-py3.9",
   "language": "python",
   "name": "python3"
  },
  "language_info": {
   "codemirror_mode": {
    "name": "ipython",
    "version": 3
   },
   "file_extension": ".py",
   "mimetype": "text/x-python",
   "name": "python",
   "nbconvert_exporter": "python",
   "pygments_lexer": "ipython3",
   "version": "3.9.6"
  }
 },
 "nbformat": 4,
 "nbformat_minor": 2
}
